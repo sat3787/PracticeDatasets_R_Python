{
 "metadata": {
  "name": "",
  "signature": "sha256:bf412001e48677c80f745b1159a842ff59d2105e893b2767ad3e61998c455c53"
 },
 "nbformat": 3,
 "nbformat_minor": 0,
 "worksheets": [
  {
   "cells": [
    {
     "cell_type": "heading",
     "level": 4,
     "metadata": {},
     "source": [
      "Name:Pavani Satish Kalepalli"
     ]
    },
    {
     "cell_type": "heading",
     "level": 4,
     "metadata": {},
     "source": [
      "Execution Environment: np18py27-1.9"
     ]
    },
    {
     "cell_type": "heading",
     "level": 4,
     "metadata": {},
     "source": [
      "Import NUMPY , PANDAS , XLRD and GLOB libraries"
     ]
    },
    {
     "cell_type": "code",
     "collapsed": false,
     "input": [
      "import numpy as np\n",
      "import pandas as pd\n",
      "import xlrd\n",
      "import glob\n",
      "from datetime import *\n",
      "from dateutil.relativedelta import *\n",
      "import calendar\n",
      "import warnings\n",
      "warnings.filterwarnings('ignore')"
     ],
     "language": "python",
     "metadata": {},
     "outputs": [],
     "prompt_number": 44
    },
    {
     "cell_type": "heading",
     "level": 4,
     "metadata": {},
     "source": [
      "Read all the xlsx files in the current directory into a single data frame (change the path if executing elsewhere)"
     ]
    },
    {
     "cell_type": "code",
     "collapsed": false,
     "input": [
      "all_data = pd.DataFrame()\n",
      "for file_name in glob.glob(\"*.xlsx\"):\n",
      "    dframe = pd.read_excel(file_name,sheetname=\"Live Universe Estimate Daily\")\n",
      "    all_data = all_data.append(dframe,ignore_index=True)"
     ],
     "language": "python",
     "metadata": {},
     "outputs": [],
     "prompt_number": 45
    },
    {
     "cell_type": "heading",
     "level": 4,
     "metadata": {},
     "source": [
      "Change the data types of columns into the required types"
     ]
    },
    {
     "cell_type": "code",
     "collapsed": false,
     "input": [
      "all_data[['UE (000)', 'Weighted Intab', 'PESS', 'Avg Intab', 'Avg Scaled Intab', 'Avg Scaled Installed', 'Avg Installed', 'WESE']] = all_data[['UE (000)', 'Weighted Intab', 'PESS', 'Avg Intab', 'Avg Scaled Intab', 'Avg Scaled Installed', 'Avg Installed', 'WESE']].astype(float)\n",
      "all_data[['Coverage Area', 'Market Break', 'Demographic', 'UE TYPE']] = all_data[['Coverage Area', 'Market Break', 'Demographic', 'UE TYPE']].astype(object)\n",
      "all_data[['Date']] = all_data[['Date']].astype('datetime64[ns]')\n",
      "all_data['ID']=np.arange(1,len(all_data)+1,1)\n",
      "all_data['Weekday num'] = all_data['Date'].dt.dayofweek + 1"
     ],
     "language": "python",
     "metadata": {},
     "outputs": [],
     "prompt_number": 46
    },
    {
     "cell_type": "heading",
     "level": 4,
     "metadata": {},
     "source": [
      "Verify the datatypes of initial layout"
     ]
    },
    {
     "cell_type": "code",
     "collapsed": false,
     "input": [
      "all_data.dtypes"
     ],
     "language": "python",
     "metadata": {},
     "outputs": [
      {
       "metadata": {},
       "output_type": "pyout",
       "prompt_number": 47,
       "text": [
        "Coverage Area                   object\n",
        "Market Break                    object\n",
        "Demographic                     object\n",
        "Date                    datetime64[ns]\n",
        "UE (000)                       float64\n",
        "UE TYPE                         object\n",
        "Weighted Intab                 float64\n",
        "PESS                           float64\n",
        "Avg Intab                      float64\n",
        "Avg Scaled Intab               float64\n",
        "Avg Scaled Installed           float64\n",
        "Avg Installed                  float64\n",
        "WESE                           float64\n",
        "ID                               int64\n",
        "Weekday num                      int64\n",
        "dtype: object"
       ]
      }
     ],
     "prompt_number": 47
    },
    {
     "cell_type": "heading",
     "level": 4,
     "metadata": {},
     "source": [
      "Verify the head of initial layout"
     ]
    },
    {
     "cell_type": "code",
     "collapsed": false,
     "input": [
      "all_data.head(5)\n",
      "all_data.size"
     ],
     "language": "python",
     "metadata": {},
     "outputs": [
      {
       "metadata": {},
       "output_type": "pyout",
       "prompt_number": 48,
       "text": [
        "1894695"
       ]
      }
     ],
     "prompt_number": 48
    },
    {
     "cell_type": "heading",
     "level": 4,
     "metadata": {},
     "source": [
      "Create a t2 filter where Coverage Area is 'Total US' and Market Break is 'Composite' and compute 'tot' by finding unique set of rows"
     ]
    },
    {
     "cell_type": "code",
     "collapsed": false,
     "input": [
      "t2_filter=all_data[(all_data['Coverage Area']=='Total US') & (all_data['Market Break']=='Composite')]\n",
      "tot=t2_filter[['Coverage Area','Market Break','Demographic','Date','UE (000)','Avg Scaled Intab','Avg Scaled Installed']].drop_duplicates()\n",
      "tot.head()"
     ],
     "language": "python",
     "metadata": {},
     "outputs": [
      {
       "html": [
        "<div style=\"max-height:1000px;max-width:1500px;overflow:auto;\">\n",
        "<table border=\"1\" class=\"dataframe\">\n",
        "  <thead>\n",
        "    <tr style=\"text-align: right;\">\n",
        "      <th></th>\n",
        "      <th>Coverage Area</th>\n",
        "      <th>Market Break</th>\n",
        "      <th>Demographic</th>\n",
        "      <th>Date</th>\n",
        "      <th>UE (000)</th>\n",
        "      <th>Avg Scaled Intab</th>\n",
        "      <th>Avg Scaled Installed</th>\n",
        "    </tr>\n",
        "  </thead>\n",
        "  <tbody>\n",
        "    <tr>\n",
        "      <th>0</th>\n",
        "      <td>Total US</td>\n",
        "      <td>Composite</td>\n",
        "      <td>Household</td>\n",
        "      <td>2015-05-18</td>\n",
        "      <td>116400</td>\n",
        "      <td>7531</td>\n",
        "      <td>8023</td>\n",
        "    </tr>\n",
        "    <tr>\n",
        "      <th>1</th>\n",
        "      <td>Total US</td>\n",
        "      <td>Composite</td>\n",
        "      <td>Household</td>\n",
        "      <td>2015-05-19</td>\n",
        "      <td>116400</td>\n",
        "      <td>7569</td>\n",
        "      <td>8013</td>\n",
        "    </tr>\n",
        "    <tr>\n",
        "      <th>2</th>\n",
        "      <td>Total US</td>\n",
        "      <td>Composite</td>\n",
        "      <td>Household</td>\n",
        "      <td>2015-05-20</td>\n",
        "      <td>116400</td>\n",
        "      <td>7545</td>\n",
        "      <td>8008</td>\n",
        "    </tr>\n",
        "    <tr>\n",
        "      <th>3</th>\n",
        "      <td>Total US</td>\n",
        "      <td>Composite</td>\n",
        "      <td>Household</td>\n",
        "      <td>2015-05-21</td>\n",
        "      <td>116400</td>\n",
        "      <td>7561</td>\n",
        "      <td>7989</td>\n",
        "    </tr>\n",
        "    <tr>\n",
        "      <th>4</th>\n",
        "      <td>Total US</td>\n",
        "      <td>Composite</td>\n",
        "      <td>Household</td>\n",
        "      <td>2015-05-22</td>\n",
        "      <td>116400</td>\n",
        "      <td>7559</td>\n",
        "      <td>7970</td>\n",
        "    </tr>\n",
        "  </tbody>\n",
        "</table>\n",
        "</div>"
       ],
       "metadata": {},
       "output_type": "pyout",
       "prompt_number": 49,
       "text": [
        "  Coverage Area Market Break Demographic       Date  UE (000)  \\\n",
        "0      Total US    Composite   Household 2015-05-18    116400   \n",
        "1      Total US    Composite   Household 2015-05-19    116400   \n",
        "2      Total US    Composite   Household 2015-05-20    116400   \n",
        "3      Total US    Composite   Household 2015-05-21    116400   \n",
        "4      Total US    Composite   Household 2015-05-22    116400   \n",
        "\n",
        "   Avg Scaled Intab  Avg Scaled Installed  \n",
        "0              7531                  8023  \n",
        "1              7569                  8013  \n",
        "2              7545                  8008  \n",
        "3              7561                  7989  \n",
        "4              7559                  7970  "
       ]
      }
     ],
     "prompt_number": 49
    },
    {
     "cell_type": "code",
     "collapsed": false,
     "input": [
      "len(tot)"
     ],
     "language": "python",
     "metadata": {},
     "outputs": [
      {
       "metadata": {},
       "output_type": "pyout",
       "prompt_number": 50,
       "text": [
        "189"
       ]
      }
     ],
     "prompt_number": 50
    },
    {
     "cell_type": "heading",
     "level": 4,
     "metadata": {},
     "source": [
      "Perform inner join on t1 and t2, calculate UE and retrieve the required columns"
     ]
    },
    {
     "cell_type": "code",
     "collapsed": false,
     "input": [
      "def newCalcUEData(date):\n",
      "    t1=all_data[all_data['Date']>date]\n",
      "    inner_join=pd.merge(t1, tot, on=['Date','Demographic'], how='inner')\n",
      "    output=inner_join[['Coverage Area_x', 'Market Break_x', 'Demographic', 'Date', 'UE (000)_x', 'UE TYPE', 'Weighted Intab', 'PESS', 'Avg Intab', 'Avg Scaled Intab_x', 'Avg Scaled Installed_x', 'Avg Installed', 'WESE','UE (000)_y','Avg Scaled Installed_y','Weekday num']]\n",
      "    calc_UE=(inner_join['Avg Scaled Installed_x']/inner_join['Avg Scaled Installed_y'])*inner_join['UE (000)_y']\n",
      "    output['Calculated UE']=pd.Series(calc_UE.round(decimals=0))\n",
      "    return output"
     ],
     "language": "python",
     "metadata": {},
     "outputs": [],
     "prompt_number": 51
    },
    {
     "cell_type": "code",
     "collapsed": false,
     "input": [
      "date=np.datetime64('2015-05-17')\n",
      "output=newCalcUEData(date)"
     ],
     "language": "python",
     "metadata": {},
     "outputs": [],
     "prompt_number": 52
    },
    {
     "cell_type": "code",
     "collapsed": false,
     "input": [
      "output.columns"
     ],
     "language": "python",
     "metadata": {},
     "outputs": [
      {
       "metadata": {},
       "output_type": "pyout",
       "prompt_number": 53,
       "text": [
        "Index([u'Coverage Area_x', u'Market Break_x', u'Demographic', u'Date', u'UE (000)_x', u'UE TYPE', u'Weighted Intab', u'PESS', u'Avg Intab', u'Avg Scaled Intab_x', u'Avg Scaled Installed_x', u'Avg Installed', u'WESE', u'UE (000)_y', u'Avg Scaled Installed_y', u'Weekday num', u'Calculated UE'], dtype='object')"
       ]
      }
     ],
     "prompt_number": 53
    },
    {
     "cell_type": "code",
     "collapsed": false,
     "input": [
      "len(output)"
     ],
     "language": "python",
     "metadata": {},
     "outputs": [
      {
       "metadata": {},
       "output_type": "pyout",
       "prompt_number": 54,
       "text": [
        "126313"
       ]
      }
     ],
     "prompt_number": 54
    },
    {
     "cell_type": "heading",
     "level": 4,
     "metadata": {},
     "source": [
      "Prepare the final layout after retrieving the new values from 'newCalcUEData' function"
     ]
    },
    {
     "cell_type": "code",
     "collapsed": false,
     "input": [
      "CalculatedUE=output[['Coverage Area_x', 'Market Break_x', 'Demographic', 'Date', 'UE (000)_x', 'UE TYPE', 'Weighted Intab', 'PESS', 'Avg Intab', 'Avg Scaled Intab_x', 'Avg Scaled Installed_x', 'Avg Installed', 'WESE', 'UE (000)_y', 'Avg Scaled Installed_y','Calculated UE','Weekday num']]\n",
      "CalculatedUE.columns=['Coverage Area', 'Market Break', 'Demographic', 'Date', 'UE (000)', 'UE TYPE', 'Weighted Intab', 'PESS', 'Avg Intab', 'Avg Scaled Intab', 'Avg Scaled Installed', 'Avg Installed', 'WESE', 't2 UE', 't2 ASI', 'Calculated UE', 'Day of Week #']\n",
      "CalculatedUE['ID']=pd.Series(np.arange(1,len(CalculatedUE)+1,1))\n"
     ],
     "language": "python",
     "metadata": {},
     "outputs": [],
     "prompt_number": 55
    },
    {
     "cell_type": "heading",
     "level": 4,
     "metadata": {},
     "source": [
      "Date calculations begin here"
     ]
    },
    {
     "cell_type": "code",
     "collapsed": false,
     "input": [
      "dates=pd.to_datetime(CalculatedUE['Date'])\n",
      "CalculatedUE['Date']=pd.Series(dates,index=CalculatedUE.index)\n",
      "def fxy(x, y):\n",
      "    return (x + relativedelta(days=7-y))\n",
      "CalculatedUE['Broadcast Year']=pd.Series(CalculatedUE.apply(lambda x: fxy(x['Date'], x['Day of Week #']), axis=1))\n",
      "CalculatedUE['Broadcast Year']=CalculatedUE['Broadcast Year'].dt.year"
     ],
     "language": "python",
     "metadata": {},
     "outputs": [],
     "prompt_number": 56
    },
    {
     "cell_type": "code",
     "collapsed": false,
     "input": [
      "def f_fiscalyear(x, y):\n",
      "    return (x + relativedelta(days=7-y))\n",
      "CalculatedUE.loc[:,'Fiscal Year']=pd.Series(index=CalculatedUE.index)\n",
      "CalculatedUE['Fiscal Year']=pd.Series(CalculatedUE.apply(lambda x: f_fiscalyear(x['Date'], x['Day of Week #']), axis=1))\n",
      "if CalculatedUE['Fiscal Year'].dt.month.any() >=10:\n",
      "    CalculatedUE['Fiscal Year']=CalculatedUE['Fiscal Year'].dt.month + 1\n",
      "else:\n",
      "    CalculatedUE['Fiscal Year']=CalculatedUE['Fiscal Year'].dt.year"
     ],
     "language": "python",
     "metadata": {},
     "outputs": [],
     "prompt_number": 57
    },
    {
     "cell_type": "code",
     "collapsed": false,
     "input": [
      "def f_quarter(x, y):\n",
      "    return math.ceil((float((x + relativedelta(days=7-y)).month))/3)\n",
      "CalculatedUE.loc[:,'Quarter']=pd.Series(index=CalculatedUE.index)\n",
      "CalculatedUE['Quarter']=pd.Series(CalculatedUE.apply(lambda x: f_quarter(x['Date'], x['Day of Week #']), axis=1))\n"
     ],
     "language": "python",
     "metadata": {},
     "outputs": [],
     "prompt_number": 58
    },
    {
     "cell_type": "code",
     "collapsed": false,
     "input": [
      "def f_fiscalquarter(x, y):\n",
      "    val= math.ceil((float((x + relativedelta(days=7-y)).month))/3)\n",
      "    if val!= 4 :\n",
      "        return (val +1)\n",
      "    else:\n",
      "        return 1\n",
      "CalculatedUE.loc[:,'Fiscal Quarter']=pd.Series(index=CalculatedUE.index)\n",
      "CalculatedUE['Fiscal Quarter']=pd.Series(CalculatedUE.apply(lambda x: f_fiscalquarter(x['Date'], x['Day of Week #']), axis=1))"
     ],
     "language": "python",
     "metadata": {},
     "outputs": [],
     "prompt_number": 59
    },
    {
     "cell_type": "code",
     "collapsed": false,
     "input": [
      "def f_monthnumber(x, y):\n",
      "    return (x + relativedelta(days=7-y))\n",
      "CalculatedUE.loc[:,'Month #']=pd.Series(index=CalculatedUE.index)\n",
      "CalculatedUE['Month #']=pd.Series(CalculatedUE.apply(lambda x: f_monthnumber(x['Date'], x['Day of Week #']), axis=1))\n",
      "CalculatedUE['Month #']=CalculatedUE['Month #'].dt.month "
     ],
     "language": "python",
     "metadata": {},
     "outputs": [],
     "prompt_number": 60
    },
    {
     "cell_type": "code",
     "collapsed": false,
     "input": [
      "def f_monthname(x):\n",
      "    return (calendar.month_name[x])\n",
      "CalculatedUE.loc[:,'Month']=pd.Series(index=CalculatedUE.index)\n",
      "CalculatedUE['Month']=pd.Series(CalculatedUE.apply(lambda x: f_monthname(x['Month #']), axis=1))"
     ],
     "language": "python",
     "metadata": {},
     "outputs": [],
     "prompt_number": 61
    },
    {
     "cell_type": "code",
     "collapsed": false,
     "input": [
      "def f_month_year(x,y):\n",
      "    return (str(calendar.month_name[x])+\"-\"+str(y))\n",
      "CalculatedUE.loc[:,'Month-Year']=pd.Series(index=CalculatedUE.index)\n",
      "CalculatedUE['Month-Year']=pd.Series(CalculatedUE.apply(lambda x: f_month_year(x['Month #'],x['Broadcast Year']), axis=1))"
     ],
     "language": "python",
     "metadata": {},
     "outputs": [],
     "prompt_number": 62
    },
    {
     "cell_type": "code",
     "collapsed": false,
     "input": [
      "def f_weeknumber(x, y):\n",
      "    return (x + relativedelta(days=7-y))         \n",
      "CalculatedUE.loc[:,'Week #']=pd.Series(index=CalculatedUE.index)\n",
      "CalculatedUE['Week #']=pd.Series(CalculatedUE.apply(lambda x: f_weeknumber(x['Date'], x['Day of Week #']), axis=1))\n",
      "CalculatedUE['Week #']=CalculatedUE['Week #'].dt.week"
     ],
     "language": "python",
     "metadata": {},
     "outputs": [],
     "prompt_number": 63
    },
    {
     "cell_type": "code",
     "collapsed": false,
     "input": [
      "def f_dayofweek(x):\n",
      "    if x==1:\n",
      "        return \"Monday\"\n",
      "    elif x==2:\n",
      "        return \"Tuesday\"\n",
      "    elif x==3:\n",
      "        return \"Wednesday\"\n",
      "    elif x==4:\n",
      "        return \"Thursday\"\n",
      "    elif x==5:\n",
      "        return \"Friday\"\n",
      "    elif x==6:\n",
      "        return \"Saturday\"\n",
      "    elif x==7:\n",
      "        return \"Sunday\"\n",
      "CalculatedUE.loc[:,'Day of Week']=pd.Series(index=CalculatedUE.index)\n",
      "CalculatedUE['Day of Week']=pd.Series(CalculatedUE.apply(lambda x: f_dayofweek(x['Day of Week #']), axis=1))"
     ],
     "language": "python",
     "metadata": {},
     "outputs": [],
     "prompt_number": 64
    },
    {
     "cell_type": "code",
     "collapsed": false,
     "input": [
      "def f_startofweek(x, y):\n",
      "    return (x + relativedelta(days=1-y))\n",
      "CalculatedUE.loc[:,'Start of Week']=pd.Series(index=CalculatedUE.index)\n",
      "CalculatedUE['Start of Week']=pd.Series(CalculatedUE.apply(lambda x: f_startofweek(x['Date'], x['Day of Week #']), axis=1))"
     ],
     "language": "python",
     "metadata": {},
     "outputs": [],
     "prompt_number": 65
    },
    {
     "cell_type": "code",
     "collapsed": false,
     "input": [
      "def f_endofweek(x, y):\n",
      "    return (x + relativedelta(days=7-y))\n",
      "CalculatedUE.loc[:,'End of Week']=pd.Series(index=CalculatedUE.index)\n",
      "CalculatedUE['End of Week']=pd.Series(CalculatedUE.apply(lambda x: f_endofweek(x['Date'], x['Day of Week #']), axis=1))"
     ],
     "language": "python",
     "metadata": {},
     "outputs": [],
     "prompt_number": 66
    },
    {
     "cell_type": "code",
     "collapsed": false,
     "input": [
      "def f_weekdayweekend(x):\n",
      "    if x<=5:\n",
      "        return \"Weekday\"\n",
      "    else:\n",
      "        return \"Weekend\"\n",
      "CalculatedUE.loc[:,'Weekday/Weekend']=pd.Series(index=CalculatedUE.index)\n",
      "CalculatedUE['Weekday/Weekend']=pd.Series(CalculatedUE.apply(lambda x: f_weekdayweekend(x['Day of Week #']), axis=1))"
     ],
     "language": "python",
     "metadata": {},
     "outputs": [],
     "prompt_number": 67
    },
    {
     "cell_type": "code",
     "collapsed": false,
     "input": [
      "CalculatedUE.head(2)"
     ],
     "language": "python",
     "metadata": {},
     "outputs": [
      {
       "html": [
        "<div style=\"max-height:1000px;max-width:1500px;overflow:auto;\">\n",
        "<table border=\"1\" class=\"dataframe\">\n",
        "  <thead>\n",
        "    <tr style=\"text-align: right;\">\n",
        "      <th></th>\n",
        "      <th>Coverage Area</th>\n",
        "      <th>Market Break</th>\n",
        "      <th>Demographic</th>\n",
        "      <th>Date</th>\n",
        "      <th>UE (000)</th>\n",
        "      <th>UE TYPE</th>\n",
        "      <th>Weighted Intab</th>\n",
        "      <th>PESS</th>\n",
        "      <th>Avg Intab</th>\n",
        "      <th>Avg Scaled Intab</th>\n",
        "      <th>...</th>\n",
        "      <th>Quarter</th>\n",
        "      <th>Fiscal Quarter</th>\n",
        "      <th>Month #</th>\n",
        "      <th>Month</th>\n",
        "      <th>Month-Year</th>\n",
        "      <th>Week #</th>\n",
        "      <th>Day of Week</th>\n",
        "      <th>Start of Week</th>\n",
        "      <th>End of Week</th>\n",
        "      <th>Weekday/Weekend</th>\n",
        "    </tr>\n",
        "  </thead>\n",
        "  <tbody>\n",
        "    <tr>\n",
        "      <th>0</th>\n",
        "      <td>Total US</td>\n",
        "      <td>Composite</td>\n",
        "      <td>Household</td>\n",
        "      <td>2015-05-18</td>\n",
        "      <td>116400</td>\n",
        "      <td>S</td>\n",
        "      <td>116400051</td>\n",
        "      <td>14168</td>\n",
        "      <td>22705</td>\n",
        "      <td>7531</td>\n",
        "      <td>...</td>\n",
        "      <td>2</td>\n",
        "      <td>3</td>\n",
        "      <td>5</td>\n",
        "      <td>May</td>\n",
        "      <td>May-2015</td>\n",
        "      <td>21</td>\n",
        "      <td>Monday</td>\n",
        "      <td>2015-05-18</td>\n",
        "      <td>2015-05-24</td>\n",
        "      <td>Weekday</td>\n",
        "    </tr>\n",
        "    <tr>\n",
        "      <th>1</th>\n",
        "      <td>Total US</td>\n",
        "      <td>Cable Status = Cable Plus = Yes</td>\n",
        "      <td>Household</td>\n",
        "      <td>2015-05-18</td>\n",
        "      <td>100300</td>\n",
        "      <td>S</td>\n",
        "      <td>100303325</td>\n",
        "      <td>12274</td>\n",
        "      <td>19621</td>\n",
        "      <td>6504</td>\n",
        "      <td>...</td>\n",
        "      <td>2</td>\n",
        "      <td>3</td>\n",
        "      <td>5</td>\n",
        "      <td>May</td>\n",
        "      <td>May-2015</td>\n",
        "      <td>21</td>\n",
        "      <td>Monday</td>\n",
        "      <td>2015-05-18</td>\n",
        "      <td>2015-05-24</td>\n",
        "      <td>Weekday</td>\n",
        "    </tr>\n",
        "  </tbody>\n",
        "</table>\n",
        "<p>2 rows \u00d7 30 columns</p>\n",
        "</div>"
       ],
       "metadata": {},
       "output_type": "pyout",
       "prompt_number": 70,
       "text": [
        "  Coverage Area                     Market Break Demographic       Date  \\\n",
        "0      Total US                        Composite   Household 2015-05-18   \n",
        "1      Total US  Cable Status = Cable Plus = Yes   Household 2015-05-18   \n",
        "\n",
        "   UE (000) UE TYPE  Weighted Intab   PESS  Avg Intab  Avg Scaled Intab  \\\n",
        "0    116400       S       116400051  14168      22705              7531   \n",
        "1    100300       S       100303325  12274      19621              6504   \n",
        "\n",
        "        ...         Quarter  Fiscal Quarter  Month #  Month  Month-Year  \\\n",
        "0       ...               2               3        5    May    May-2015   \n",
        "1       ...               2               3        5    May    May-2015   \n",
        "\n",
        "   Week #  Day of Week  Start of Week  End of Week  Weekday/Weekend  \n",
        "0      21       Monday     2015-05-18   2015-05-24          Weekday  \n",
        "1      21       Monday     2015-05-18   2015-05-24          Weekday  \n",
        "\n",
        "[2 rows x 30 columns]"
       ]
      }
     ],
     "prompt_number": 70
    },
    {
     "cell_type": "code",
     "collapsed": false,
     "input": [
      "CalculatedUE.to_csv(\"../w_sat3787/OUTPUT/assign_output.csv\",header=True,index=True)"
     ],
     "language": "python",
     "metadata": {},
     "outputs": [],
     "prompt_number": 78
    },
    {
     "cell_type": "code",
     "collapsed": false,
     "input": [],
     "language": "python",
     "metadata": {},
     "outputs": []
    }
   ],
   "metadata": {}
  }
 ]
}